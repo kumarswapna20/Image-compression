{
 "cells": [
  {
   "cell_type": "markdown",
   "id": "640a7be9",
   "metadata": {},
   "source": [
    "---\n",
    "\n",
    "<center><h1>Assignment_5 Readme</h1></center>\n",
    "\n",
    "---"
   ]
  },
  {
   "cell_type": "markdown",
   "id": "59437951",
   "metadata": {},
   "source": [
    "### Assignment-5 : K-mean clustering\n"
   ]
  },
  {
   "cell_type": "markdown",
   "id": "9fd7c2db",
   "metadata": {},
   "source": [
    "For this assignment, I have compiled my code in python using Jupyter Notebook in Anaconda environment.\n",
    "Here are the steps to execute my python code. \n",
    "\n",
    "* step1: Download Anaconda for Mac\n",
    "* step2: Lanch jupyter notebook\n",
    "* step3: open the saved file and run the code."
   ]
  },
  {
   "cell_type": "markdown",
   "id": "51d1c8cd",
   "metadata": {},
   "source": [
    "In the terminal, you can install the following libraries which I have used in my python code.\n",
    "\n",
    "* numpy\n",
    "* matplotlib\n",
    "* scikit-learn\n",
    "* imageio\n",
    "\n",
    "Use the following format to install the libraries:\n",
    "\n",
    "pip install numpy scikit-learn matplotlib imageio"
   ]
  }
 ],
 "metadata": {
  "kernelspec": {
   "display_name": "Python 3 (ipykernel)",
   "language": "python",
   "name": "python3"
  },
  "language_info": {
   "codemirror_mode": {
    "name": "ipython",
    "version": 3
   },
   "file_extension": ".py",
   "mimetype": "text/x-python",
   "name": "python",
   "nbconvert_exporter": "python",
   "pygments_lexer": "ipython3",
   "version": "3.11.4"
  }
 },
 "nbformat": 4,
 "nbformat_minor": 5
}
